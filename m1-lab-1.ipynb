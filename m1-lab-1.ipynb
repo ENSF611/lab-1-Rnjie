{
 "cells": [
  {
   "cell_type": "code",
   "execution_count": null,
   "metadata": {},
   "outputs": [],
   "source": []
  }
 ],
 "metadata": {
  "kernelspec": {
   "authors": [
    {
     "name": "Robert Njie"
    }
   ],
   "display_name": "Python 3 (ipykernel)",
   "language": "python",
   "name": "python3"
  },
  "language_info": {
   "codemirror_mode": {
    "name": "ipython",
    "version": 3
   },
   "file_extension": ".py",
   "mimetype": "text/x-python",
   "name": "python",
   "nbconvert_exporter": "python",
   "pygments_lexer": "ipython3",
   "version": "3.9.13"
  },
  "vscode": {
   "interpreter": {
    "hash": "1671284e07fd74f4966503bf18bc79ca6ec9a869e96f01b29e8945a9fab6ef3f"
   }
  }
 },
 "nbformat": 4,
 "nbformat_minor": 2
}
