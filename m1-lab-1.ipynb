{
 "cells": [
  {
   "cell_type": "code",
   "execution_count": 2,
   "metadata": {},
   "outputs": [
    {
     "name": "stdout",
     "output_type": "stream",
     "text": [
      "Python version: 3.9.12 (main, Apr  4 2022, 05:22:27) [MSC v.1916 64 bit (AMD64)]\n",
      "pandas version: 1.4.2\n",
      "matplotlib version: 3.5.1\n",
      "NumPy version: 1.21.5\n",
      "SciPy version: 1.7.3\n",
      "IPython version: 8.2.0\n",
      "scikit-learn version: 1.0.2\n",
      "yellowbrick version: 1.5\n"
     ]
    }
   ],
   "source": [
    "import sys\n",
    "\n",
    "print(\"Python version:\", sys.version)\n",
    "\n",
    " \n",
    "\n",
    "import pandas as pd\n",
    "\n",
    "print(\"pandas version:\", pd.__version__)\n",
    "\n",
    " \n",
    "\n",
    "import matplotlib\n",
    "\n",
    "print(\"matplotlib version:\", matplotlib.__version__)\n",
    "\n",
    " \n",
    "\n",
    "import numpy as np\n",
    "\n",
    "print(\"NumPy version:\", np.__version__)\n",
    "\n",
    " \n",
    "\n",
    "import scipy as sp\n",
    "\n",
    "print(\"SciPy version:\", sp.__version__)\n",
    "\n",
    " \n",
    "\n",
    "import IPython\n",
    "\n",
    "print(\"IPython version:\", IPython.__version__)\n",
    "\n",
    " \n",
    "\n",
    "import sklearn\n",
    "\n",
    "print(\"scikit-learn version:\", sklearn.__version__)\n",
    "\n",
    " \n",
    "\n",
    "import yellowbrick\n",
    "\n",
    "print(\"yellowbrick version:\", yellowbrick.__version__)"
   ]
  },
  {
   "cell_type": "code",
   "execution_count": 1,
   "metadata": {},
   "outputs": [
    {
     "name": "stdout",
     "output_type": "stream",
     "text": [
      "# conda environments:\n",
      "#\n",
      "base                  *  C:\\Users\\Robbie\\anaconda3\n",
      "ENSF592                  C:\\Users\\Robbie\\anaconda3\\envs\\ENSF592\n",
      "\n",
      "\n",
      "Note: you may need to restart the kernel to use updated packages.\n"
     ]
    }
   ],
   "source": [
    "conda env list"
   ]
  }
 ],
 "metadata": {
  "authors": [
   {
    "name": "Robert Njie"
   }
  ],
  "kernelspec": {
   "display_name": "Python 3 (ipykernel)",
   "language": "python",
   "name": "python3"
  },
  "language_info": {
   "codemirror_mode": {
    "name": "ipython",
    "version": 3
   },
   "file_extension": ".py",
   "mimetype": "text/x-python",
   "name": "python",
   "nbconvert_exporter": "python",
   "pygments_lexer": "ipython3",
   "version": "3.9.12"
  },
  "vscode": {
   "interpreter": {
    "hash": "7784bff48c1065f5f2fd097758336c329450aee42db82a3fc6ba3ffde41745b4"
   }
  }
 },
 "nbformat": 4,
 "nbformat_minor": 2
}
